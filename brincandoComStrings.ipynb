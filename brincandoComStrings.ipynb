{
 "cells": [
  {
   "cell_type": "markdown",
   "metadata": {},
   "source": [
    "a) Crie um código que separe dois pares de chave-valor, separados por \",\" e por \":\". Por exemplo, dada a string\n",
    "\n",
    "\"sapato:80.50,camisa:50.20\"\n",
    "\n",
    "devemos obter as seguintes variáveis:\n",
    "\n",
    "item_1 = \"sapato\" preco_1 = 80.5 item_2 = \"camisa\" preco_2 = 50.2"
   ]
  },
  {
   "cell_type": "code",
   "execution_count": 3,
   "metadata": {},
   "outputs": [
    {
     "name": "stdout",
     "output_type": "stream",
     "text": [
      "item_1 = \"sapato\"\n",
      "preco_1 = 80.5\n",
      "item_2 = \"camisa\"\n",
      "preco_2 = 50.2\n"
     ]
    }
   ],
   "source": [
    "# String de entrada\n",
    "entrada = \"sapato:80.50,camisa:50.20\"\n",
    "\n",
    "# Separar os pares de chave-valor usando a vírgula\n",
    "pares = entrada.split(',')\n",
    "\n",
    "# Separar os pares individuais e extrair chaves e valores\n",
    "item_1, preco_1 = pares[0].split(':')\n",
    "item_2, preco_2 = pares[1].split(':')\n",
    "\n",
    "# Converter os valores de preço para float\n",
    "preco_1 = float(preco_1)\n",
    "preco_2 = float(preco_2)\n",
    "\n",
    "# Imprimir os resultados\n",
    "print(f'item_1 = \"{item_1}\"')\n",
    "print(f'preco_1 = {preco_1}')\n",
    "print(f'item_2 = \"{item_2}\"')\n",
    "print(f'preco_2 = {preco_2}')"
   ]
  },
  {
   "cell_type": "markdown",
   "metadata": {},
   "source": [
    "b) Faça algo análogo acima para uma quantidade arbitrária de pares chave-valor, criando um dicionário. Por exemplo, a string acima seria transformada em:\n",
    "\n",
    "precos = {\"sapato\": 80.5, \"camisa\": 50.2}"
   ]
  },
  {
   "cell_type": "code",
   "execution_count": 2,
   "metadata": {},
   "outputs": [
    {
     "name": "stdout",
     "output_type": "stream",
     "text": [
      "{'sapato': 80.5, 'camisa': 50.2}\n"
     ]
    }
   ],
   "source": [
    "# String de entrada\n",
    "entrada = \"sapato:80.50,camisa:50.20\"\n",
    "\n",
    "# Dividir a string em pares usando a vírgula\n",
    "pares = entrada.split(',')\n",
    "\n",
    "# Criar um dicionário a partir dos pares\n",
    "precos = {}\n",
    "for par in pares:\n",
    "    chave, valor = par.split(':')\n",
    "    precos[chave] = float(valor)\n",
    "\n",
    "# Exibir o dicionário\n",
    "print(precos)"
   ]
  },
  {
   "cell_type": "markdown",
   "metadata": {},
   "source": [
    "c) Aumente a complexidade do item acima, fazendo com que apenas os items que começam com \"s\" sejam adicionados ao dicionário. Então, o caso acima resultaria em:\n",
    "\n",
    "precos = {\"sapato\": 80.5}"
   ]
  },
  {
   "cell_type": "code",
   "execution_count": 1,
   "metadata": {},
   "outputs": [
    {
     "name": "stdout",
     "output_type": "stream",
     "text": [
      "{'sapato': 80.5}\n"
     ]
    }
   ],
   "source": [
    "# String de entrada\n",
    "entrada = \"sapato:80.50,camisa:50.20\"\n",
    "\n",
    "# Dividir a string em pares usando a vírgula\n",
    "pares = entrada.split(',')\n",
    "\n",
    "# Criar um dicionário a partir dos pares, filtrando itens que começam com 's'\n",
    "precos = {}\n",
    "for par in pares:\n",
    "    chave, valor = par.split(':')\n",
    "    if chave.startswith('s'):\n",
    "        precos[chave] = float(valor)\n",
    "\n",
    "# Exibir o dicionário\n",
    "print(precos)\n"
   ]
  },
  {
   "cell_type": "markdown",
   "metadata": {},
   "source": [
    "Crie uma função que testa se uma string é um palíndromo, Permita dois modos: \"puro\": o palíndromo é obtido com todos os caracteres exatamente, como por exemplo em \"ovo\" e \"amor a roma\". Porém, \"Ovo\" não seria considerado palíndromo. \"flexível\": O palíndromo ocorre apenas com as letras, e não consideramos acentos ou letras maísculas. Por exemplo, \"Ovo\" ou 'Socorram-me, subi no ônibus em marrocos' seriam considerados palíndromos"
   ]
  },
  {
   "cell_type": "code",
   "execution_count": null,
   "metadata": {},
   "outputs": [],
   "source": []
  },
  {
   "cell_type": "markdown",
   "metadata": {},
   "source": [
    "Crie uma função que testa se os parênteses (e caracteres do \"tipo\" parênteses) de uma string estão corretamente pareados. Por exemplo, oseguintes casos possuem os parênteses pareados. \"O teste (obrigatório) é para amanhã!\" \"[(1 + 2) * 4] - (3+1)\"\n",
    "\n",
    "Porém nos seguintes casos os parênteses não estão corretamente pareados: \"O teste (obrigatório é para amanhã!\", \"O teste (obrigatório é para amanhã!\" \"O teste (obrigatório] é para amanhã!\" \"[(1 + 2] * 4) - (3+1)\""
   ]
  },
  {
   "cell_type": "code",
   "execution_count": null,
   "metadata": {},
   "outputs": [],
   "source": []
  }
 ],
 "metadata": {
  "kernelspec": {
   "display_name": "Python 3",
   "language": "python",
   "name": "python3"
  },
  "language_info": {
   "codemirror_mode": {
    "name": "ipython",
    "version": 3
   },
   "file_extension": ".py",
   "mimetype": "text/x-python",
   "name": "python",
   "nbconvert_exporter": "python",
   "pygments_lexer": "ipython3",
   "version": "3.11.4"
  }
 },
 "nbformat": 4,
 "nbformat_minor": 2
}
